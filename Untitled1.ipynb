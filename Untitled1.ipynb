{
 "cells": [
  {
   "cell_type": "code",
   "execution_count": 1,
   "metadata": {},
   "outputs": [],
   "source": [
    "import pandas as pd\n",
    "import numpy as np\n",
    "import matplotlib.pyplot as plt\n",
    "import glob\n",
    "import os"
   ]
  },
  {
   "cell_type": "code",
   "execution_count": 3,
   "metadata": {},
   "outputs": [],
   "source": [
    "path = r'C:\\Users\\Qinghua\\Desktop\\2\\111AAAProject\\data\\newData\\clusterdata-2011-2\\job_events\\1'\n",
    "all_files = glob.glob(path + \"/*.csv\")\n",
    "\n",
    "li = []\n",
    "\n",
    "for filename in all_files:\n",
    "\n",
    "    df = pd.read_csv(filename, index_col=None, header=0)\n",
    "\n",
    "    li.append(df)\n",
    "\n",
    "frame = pd.concat(li, axis=0, ignore_index=True)"
   ]
  },
  {
   "cell_type": "code",
   "execution_count": 4,
   "metadata": {},
   "outputs": [],
   "source": [
    "df.columns = [\"time\", \"missing info\", \"job ID\", \"event type\", \"user\", \"scheduling class\", \"job name\", \"logical job name\"]"
   ]
  },
  {
   "cell_type": "code",
   "execution_count": 7,
   "metadata": {},
   "outputs": [
    {
     "data": {
      "text/plain": [
       "time                5088\n",
       "missing info           0\n",
       "job ID              5088\n",
       "event type          5088\n",
       "user                5088\n",
       "scheduling class    5088\n",
       "job name            5088\n",
       "logical job name    5088\n",
       "dtype: int64"
      ]
     },
     "execution_count": 7,
     "metadata": {},
     "output_type": "execute_result"
    }
   ],
   "source": [
    "df.count()"
   ]
  },
  {
   "cell_type": "code",
   "execution_count": 16,
   "metadata": {},
   "outputs": [],
   "source": [
    "job_events_time1 = df.groupby(['time'])['user'].count().reset_index()"
   ]
  },
  {
   "cell_type": "code",
   "execution_count": 18,
   "metadata": {},
   "outputs": [
    {
     "name": "stdout",
     "output_type": "stream",
     "text": [
      "              time  user\n",
      "0     246152712720     1\n",
      "1     246152715307     1\n",
      "2     246156921917     1\n",
      "3     246156921931     1\n",
      "4     246156921975     1\n",
      "...            ...   ...\n",
      "5058  251155316185     1\n",
      "5059  251155316440     1\n",
      "5060  251155316449     1\n",
      "5061  251157082150     1\n",
      "5062  251158892444     1\n",
      "\n",
      "[5063 rows x 2 columns]\n"
     ]
    }
   ],
   "source": [
    "print (job_events_time1) "
   ]
  },
  {
   "cell_type": "code",
   "execution_count": 20,
   "metadata": {},
   "outputs": [
    {
     "name": "stdout",
     "output_type": "stream",
     "text": [
      "          job ID  time\n",
      "0     3436840924     1\n",
      "1     3436840960     1\n",
      "2     3461629288     1\n",
      "3     3461671900     1\n",
      "4     3461704815     1\n",
      "...          ...   ...\n",
      "1869  6280835416     2\n",
      "1870  6280835642     2\n",
      "1871  6280835949     2\n",
      "1872  6280836100     2\n",
      "1873  6280836459     2\n",
      "\n",
      "[1874 rows x 2 columns]\n"
     ]
    }
   ],
   "source": [
    "job_events_job_ID1 = df.groupby(['job ID'])['time'].count().reset_index()\n",
    "print (job_events_job_ID1) "
   ]
  },
  {
   "cell_type": "code",
   "execution_count": 21,
   "metadata": {},
   "outputs": [
    {
     "name": "stdout",
     "output_type": "stream",
     "text": [
      "   event type  time\n",
      "0           0  1719\n",
      "1           1  1720\n",
      "2           3    15\n",
      "3           4   899\n",
      "4           5   735\n"
     ]
    }
   ],
   "source": [
    "job_events_event_type1 = df.groupby(['event type'])['time'].count().reset_index()\n",
    "print (job_events_event_type1) "
   ]
  },
  {
   "cell_type": "code",
   "execution_count": 22,
   "metadata": {},
   "outputs": [
    {
     "name": "stdout",
     "output_type": "stream",
     "text": [
      "                                            user  time\n",
      "0   +iyX5HUcQOQV5mUASrNLoNQJlMbHRmriS33GBzFYzNE=     2\n",
      "1   /2WebBqImWuoAsnGB4CcpuKuNXVXCMiNPvDLG5cMlPQ=     3\n",
      "2   /DWNzLUYt1b87cIWYd0vW5P9iNmPH8XdJVuqbOl+e4o=     1\n",
      "3   07YMt+54AmVeMivAZ6AgIC+yR4U1ALbWtJbiJtFzxJY=     4\n",
      "4   0r3naaX+ybfsUIahb35AvYPC6MarnPhbqkAtRJor0xE=   105\n",
      "..                                           ...   ...\n",
      "86  wsng30Jlcz5uJwHk7Q4yu6kSs/clYk5ZueogoR3Jxxg=     5\n",
      "87  x9/OkL6ZidRfPAA3v6CRFi/7gJGG3f6NT55KX108/Ss=     8\n",
      "88  xywY3J00scxM/UNCVAmhXC7qH1apcbgx/29CoF4q5sk=    12\n",
      "89  ycZRNU4RSQwgWWUZA4vMXg1cwARkHIDNw9cDpJ+TiVE=     6\n",
      "90  ycbMkTOh7F0buLKJlg4BU3OcBWrvF/JTZkXp9iv5zDg=    36\n",
      "\n",
      "[91 rows x 2 columns]\n"
     ]
    }
   ],
   "source": [
    "job_events_user1 = df.groupby(['user'])['time'].count().reset_index()\n",
    "print (job_events_user1) "
   ]
  },
  {
   "cell_type": "code",
   "execution_count": 23,
   "metadata": {},
   "outputs": [
    {
     "name": "stdout",
     "output_type": "stream",
     "text": [
      "   scheduling class  time\n",
      "0                 0  1844\n",
      "1                 1  1732\n",
      "2                 2  1481\n",
      "3                 3    31\n"
     ]
    }
   ],
   "source": [
    "job_events_scheduling_class1 = df.groupby(['scheduling class'])['time'].count().reset_index()\n",
    "print (job_events_scheduling_class1) "
   ]
  },
  {
   "cell_type": "code",
   "execution_count": 24,
   "metadata": {},
   "outputs": [
    {
     "name": "stdout",
     "output_type": "stream",
     "text": [
      "                                          job name  time\n",
      "0     +5gz0J6rlbguIkzEaiCNjYt5WjTccWHqc3tZI9EOEek=    17\n",
      "1     +7u2FFE2/pPOBH/wNdVvrBg7gHdxq+343kNKhgTQCCo=     2\n",
      "2     +9EzwD8YXQd+k7+ng0OCGXieH3MBbsVBvmgrxBfBQoI=     1\n",
      "3     +B9bSJQKBYdengbirRVESPbCZgXCcVJYP0dubMoNlvM=     1\n",
      "4     +COS6nbTa5cQQbZsV5xj51k4TFGV8dqoVhlu4czqzVM=    24\n",
      "...                                            ...   ...\n",
      "1462  zjb+G0bfjmVCA57KAHFYuUVsDl6RzITatJkUwI5TQUM=     3\n",
      "1463  zovrs5aBRiCwy/TAVoe6tqp7QqySToKVMQRUllK+8go=     3\n",
      "1464  zuqRM0zi55+3+zdAl23kVCFohfj4vUEACEDIdvjbmjo=     3\n",
      "1465  zvKMlJyGFZWJB4yl628RG4ABqftdy9HVQkXJwFUGNu0=     3\n",
      "1466  zyMyRgJhc0y5BagJpztKZz+PjihongmTqw5dRQCE52c=     3\n",
      "\n",
      "[1467 rows x 2 columns]\n"
     ]
    }
   ],
   "source": [
    "job_events_job_name1 = df.groupby(['job name'])['time'].count().reset_index()\n",
    "print (job_events_job_name1) "
   ]
  },
  {
   "cell_type": "code",
   "execution_count": 25,
   "metadata": {},
   "outputs": [
    {
     "name": "stdout",
     "output_type": "stream",
     "text": [
      "                                 logical job name  time\n",
      "0    +2LYx7I2upuCRSEQvQNLDE5/fbzR4m8XJD2ia3Nr/uc=     9\n",
      "1    +2e60iSA4SZRgF1VihhFgmr5q5NPEjNB1FCm89hnRAU=     5\n",
      "2    +6+FEzeVr66ZponZHMTdVR5Yx/4H+BDl2fNNo0eGSdA=     3\n",
      "3    +93MdoVpao/dbc2WrLlVtLIw/MVTWlfklhntEC9AeQU=     3\n",
      "4    +93WtR/l6JoFvcuobqJ7tFqCIJEZ9jHUiKsOLIU6FS8=     2\n",
      "..                                            ...   ...\n",
      "894  zqiOolRkQYCg/tQYSXW2RuQA5dKeTYLxB2VoZdj5F/I=     3\n",
      "895  zqilhxeI/aVgWUiqsJ6Yt3L8097L4jee+C5hGl1U/T8=     3\n",
      "896  zr91QJty4RwUqe0NXpEQmhuPJR+JTXi+buIUVCd/SIg=     3\n",
      "897  zu9gruWjPzDdIOJU/wbeu1YHsy7qHrl9amdr8UZjsWw=     1\n",
      "898  zuvvKETrmeo6n5oO7mhr47ZLtj3gVaOaNZaZWoaqBJc=     3\n",
      "\n",
      "[899 rows x 2 columns]\n"
     ]
    }
   ],
   "source": [
    "job_events_logical_job_name1 = df.groupby(['logical job name'])['time'].count().reset_index()\n",
    "print (job_events_logical_job_name1)"
   ]
  },
  {
   "cell_type": "code",
   "execution_count": 26,
   "metadata": {},
   "outputs": [],
   "source": [
    "path = r'C:\\Users\\Qinghua\\Desktop\\2\\111AAAProject\\data\\newData\\clusterdata-2011-2\\job_events\\2'\n",
    "all_files = glob.glob(path + \"/*.csv\")\n",
    "\n",
    "li = []\n",
    "\n",
    "for filename in all_files:\n",
    "\n",
    "    df1 = pd.read_csv(filename, index_col=None, header=0)\n",
    "\n",
    "    li.append(df1)\n",
    "\n",
    "frame = pd.concat(li, axis=0, ignore_index=True)"
   ]
  },
  {
   "cell_type": "code",
   "execution_count": 27,
   "metadata": {},
   "outputs": [],
   "source": [
    "df1.columns = [\"time\", \"missing info\", \"job ID\", \"event type\", \"user\", \"scheduling class\", \"job name\", \"logical job name\"]"
   ]
  },
  {
   "cell_type": "code",
   "execution_count": 29,
   "metadata": {},
   "outputs": [
    {
     "name": "stdout",
     "output_type": "stream",
     "text": [
      "              time  missing info      job ID  event type  \\\n",
      "0     496723693965           NaN  6300119207           0   \n",
      "1     496723693965           NaN  6300119207           1   \n",
      "2     496723698322           NaN  6300115239           4   \n",
      "3     496723698359           NaN  6300115384           5   \n",
      "4     496723698364           NaN  6300115511           5   \n",
      "...            ...           ...         ...         ...   \n",
      "2742  501713600612           NaN  6300404988           4   \n",
      "2743  501713600651           NaN  6300405093           5   \n",
      "2744  501713600656           NaN  6300405350           5   \n",
      "2745  501714513609           NaN  6300390683           1   \n",
      "2746  501717662840           NaN  6300424714           4   \n",
      "\n",
      "                                              user  scheduling class  \\\n",
      "0     uO/pnH/9X8t0BOJNMkdDDH6lu2lMkhiqfDPLv8R2YZE=                 3   \n",
      "1     uO/pnH/9X8t0BOJNMkdDDH6lu2lMkhiqfDPLv8R2YZE=                 3   \n",
      "2     fJeARInTaIjFrdXGqxap6x2T3TpJB84y9zvFsoGGhjk=                 2   \n",
      "3     fJeARInTaIjFrdXGqxap6x2T3TpJB84y9zvFsoGGhjk=                 0   \n",
      "4     fJeARInTaIjFrdXGqxap6x2T3TpJB84y9zvFsoGGhjk=                 2   \n",
      "...                                            ...               ...   \n",
      "2742  9GFAxBWefZgy0kq2JqWsNbLELh83RjADrFYsb7JLu28=                 2   \n",
      "2743  9GFAxBWefZgy0kq2JqWsNbLELh83RjADrFYsb7JLu28=                 0   \n",
      "2744  9GFAxBWefZgy0kq2JqWsNbLELh83RjADrFYsb7JLu28=                 2   \n",
      "2745  68CsCZngOkuQn5lVo+dNXKGoFx9ZmJXWR+W7NAUmEH4=                 1   \n",
      "2746  F2+Gv53Pxd4KDRb/UsGECThH/XUOpcWKElUXJkhkt1c=                 0   \n",
      "\n",
      "                                          job name  \\\n",
      "0     KKpQH3ycyv+rMWD3i/ChaRIfZ7Qsd+WSb+ltnj2I4HQ=   \n",
      "1     KKpQH3ycyv+rMWD3i/ChaRIfZ7Qsd+WSb+ltnj2I4HQ=   \n",
      "2     Lr7tni61BRePAVSG74QjmYrsftV5lmm2ej0nTzeoQsc=   \n",
      "3     EkfwE7P0/2T1IHwuYgOgRdf9wUURLG83gn6OpBgMstI=   \n",
      "4     Jq5ITyF2rZHI6s+7dBjpgCJeJ42R69dn+QJAtr+xRZE=   \n",
      "...                                            ...   \n",
      "2742  8ZCVjFJSjXKxg/l5mwOmYOlQbxaeqjTKADZsdrjL8Ao=   \n",
      "2743  zjwxURJQvPe2wWkBaZtdANTESre1HMN8XefAA2tLeaM=   \n",
      "2744  /huZoNJEbvxqhYHmIcjgJBYOpum7V5dcdOTxQKE6iXI=   \n",
      "2745  rJe+HgfopjKiGAi44YrYH5dmEpPBi0VSYKJe+p5jaow=   \n",
      "2746  Qc2rjkP3kVLHtmurJuvOEwObo2BNkjGGgQhG8gpsS1Y=   \n",
      "\n",
      "                                  logical job name  \n",
      "0     CLIaFf3TW0bskFImp4j4VuVrw1JAde4yohct7wCcY/8=  \n",
      "1     CLIaFf3TW0bskFImp4j4VuVrw1JAde4yohct7wCcY/8=  \n",
      "2     azrDmMUllbmKwthWNxfpqUWO4UEd8r0NMc95j5tNaFA=  \n",
      "3     cUdjbM2RJcB7/4KX3NdHpQnyyDtBq4l5+rAK3SWjpPw=  \n",
      "4     1VyFciXoOQlVF2NCDO0gjgkFKljlC9Hs1pjXN+2VQHk=  \n",
      "...                                            ...  \n",
      "2742  DwmoQYkUg6UXrWLFEnLbDM+K93lt0CyCmVOuJ9LKY4s=  \n",
      "2743  wzBNlUreHF3yBGIPJn2E87ieiC7ge5p/Yp9FfRtSfM8=  \n",
      "2744  XyTaUe/me0tUnpKZpKYoKXH5FkrW9rHkper+qJ0Jjyo=  \n",
      "2745  /tR99Zbx+h+cOieCrXA6Kgt/zJawZuhQ8eKsKodf0MQ=  \n",
      "2746  2N2Ubknr/Ly7V95poeYFNAXQISDBZ8iSTPs6KaZ1wQw=  \n",
      "\n",
      "[2747 rows x 8 columns]\n"
     ]
    }
   ],
   "source": [
    "print (df1)"
   ]
  },
  {
   "cell_type": "code",
   "execution_count": 19,
   "metadata": {},
   "outputs": [
    {
     "data": {
      "text/plain": [
       "0    28485119\n",
       "1    28485119\n",
       "2    28485119\n",
       "3    28485119\n",
       "4    28485119\n",
       "5    25335932\n",
       "dtype: int64"
      ]
     },
     "execution_count": 19,
     "metadata": {},
     "output_type": "execute_result"
    }
   ],
   "source": [
    "import os\n",
    "import numpy as np\n",
    "\n",
    "path =r\"C:\\Users\\Qinghua\\Desktop\\2\\111AAAProject\\data\\newData\\clusterdata-2011-2\\task_constraints\"\n",
    "allFiles = glob.glob(os.path.join(path,\"*.csv\"))\n",
    "\n",
    "np_array_list = []\n",
    "for file_ in allFiles:\n",
    "    df = pd.read_csv(file_,index_col=None, header=0)\n",
    "    np_array_list.append(df)\n",
    "\n",
    "comb_np_array = np.vstack(np_array_list)\n",
    "big_frame = pd.DataFrame(comb_np_array)\n",
    "big_frame.count()"
   ]
  },
  {
   "cell_type": "code",
   "execution_count": 21,
   "metadata": {},
   "outputs": [
    {
     "name": "stdout",
     "output_type": "stream",
     "text": [
      "  time   job ID task index comparison operator  \\\n",
      "0    0  3418314          0                   0   \n",
      "1    0  3418314          1                   1   \n",
      "2    0  3418314          1                   0   \n",
      "3    0  3418368          0                   1   \n",
      "4    0  3418368          0                   0   \n",
      "\n",
      "                                 attribute name attribute value  \n",
      "0  o/0PSEOQ9jWyzNMXehU3dXqePQIE2QxyxyknZMT1k4c=             NaN  \n",
      "1  mansM6bIlckDBqXz7zIl+IJeUAIfrXYa5wIgb3fzoO8=               0  \n",
      "2  o/0PSEOQ9jWyzNMXehU3dXqePQIE2QxyxyknZMT1k4c=             NaN  \n",
      "3  mansM6bIlckDBqXz7zIl+IJeUAIfrXYa5wIgb3fzoO8=               0  \n",
      "4  o/0PSEOQ9jWyzNMXehU3dXqePQIE2QxyxyknZMT1k4c=             NaN  \n"
     ]
    }
   ],
   "source": [
    "big_frame.columns = [\"time\", \"job ID\", \"task index\", \"comparison operator\", \"attribute name\",\"attribute value\"]\n",
    "print (big_frame.head())"
   ]
  },
  {
   "cell_type": "code",
   "execution_count": 24,
   "metadata": {},
   "outputs": [
    {
     "name": "stdout",
     "output_type": "stream",
     "text": [
      "                   time  job ID\n",
      "0                     0  116151\n",
      "1             600026913       3\n",
      "2             600803090       1\n",
      "3             600819256       3\n",
      "4             600819259       3\n",
      "...                 ...     ...\n",
      "14756568  2506199589479       3\n",
      "14756569  2506199602664       3\n",
      "14756570  2506199602667       3\n",
      "14756571  2506199602819       3\n",
      "14756572  2506199602822       3\n",
      "\n",
      "[14756573 rows x 2 columns]\n"
     ]
    }
   ],
   "source": [
    "task_constraints_time = big_frame.groupby(['time'])['job ID'].count().reset_index()\n",
    "print (task_constraints_time)"
   ]
  },
  {
   "cell_type": "code",
   "execution_count": 25,
   "metadata": {},
   "outputs": [
    {
     "name": "stdout",
     "output_type": "stream",
     "text": [
      "           job ID  time\n",
      "0         3418309    10\n",
      "1         3418314    13\n",
      "2         3418319    16\n",
      "3         3418324    16\n",
      "4         3418329    24\n",
      "...           ...   ...\n",
      "55267  6486564476     3\n",
      "55268  6486564510     3\n",
      "55269  6486577241     3\n",
      "55270  6486604417     3\n",
      "55271  6486624020     3\n",
      "\n",
      "[55272 rows x 2 columns]\n"
     ]
    }
   ],
   "source": [
    "task_constraints_job_ID = big_frame.groupby(['job ID'])['time'].count().reset_index()\n",
    "print (task_constraints_job_ID)"
   ]
  },
  {
   "cell_type": "code",
   "execution_count": 26,
   "metadata": {},
   "outputs": [
    {
     "name": "stdout",
     "output_type": "stream",
     "text": [
      "      task index     time\n",
      "0              0  1029135\n",
      "1              1   801360\n",
      "2              2   792478\n",
      "3              3   784890\n",
      "4              4   781763\n",
      "...          ...      ...\n",
      "9232       18341        2\n",
      "9233       18661        2\n",
      "9234       18805        2\n",
      "9235       19006        2\n",
      "9236       19440        2\n",
      "\n",
      "[9237 rows x 2 columns]\n"
     ]
    }
   ],
   "source": [
    "task_constraints_task_index = big_frame.groupby(['task index'])['time'].count().reset_index()\n",
    "print (task_constraints_task_index)"
   ]
  },
  {
   "cell_type": "code",
   "execution_count": 27,
   "metadata": {},
   "outputs": [
    {
     "name": "stdout",
     "output_type": "stream",
     "text": [
      "   comparison operator      time\n",
      "0                    0   3283711\n",
      "1                    1  23490170\n",
      "2                    2     16698\n",
      "3                    3   1694540\n"
     ]
    }
   ],
   "source": [
    "task_constraints_comparison_operator = big_frame.groupby(['comparison operator'])['time'].count().reset_index()\n",
    "print (task_constraints_comparison_operator)"
   ]
  },
  {
   "cell_type": "code",
   "execution_count": 28,
   "metadata": {},
   "outputs": [
    {
     "name": "stdout",
     "output_type": "stream",
     "text": [
      "                                  attribute name      time\n",
      "0   5dEuieuWMFy+CNMBBf/uXNX5nP4Kgzeu0O6UizRNK3w=   1665097\n",
      "1   9eCGRtl6XN5GQoOYGEjKtupBbtUoOaOPYRFw+pzH7IU=     42684\n",
      "2   ByISK6v8seuIxB23FGnamad97zwwKG2auw7Zs6h9Boc=      1257\n",
      "3   GKAYWlOFlntxaxFt+CCHj/Og1BgToNx62SMW9WHlf8g=  20411729\n",
      "4   JuC3qp6rNF75IKHBZk+mvRBuWbEf6K4O8bYI/Hgf0cs=      7336\n",
      "5   P8+B0KAkfqBJpl39uPlZpJ7YZsatZX4rEX5f/y6+xIU=       168\n",
      "6   QhD5ID81G094A0+wLhb+ZjN1sdaQlwkKAB2e+4xxqwo=        51\n",
      "7   QlHb0NMTSytpaiRqXo9rzLE+wu5f7Cx4uvIm3KZc8lQ=     30128\n",
      "8   StKUa3Jpf/WqqtUVvj209AVGVQDdyOFFKA0yOKzyFUQ=       171\n",
      "9   UXoyQksNeYIycY9Dk5zo16RRSKQIgIGvbf3eic2t9W8=     52720\n",
      "10  mansM6bIlckDBqXz7zIl+IJeUAIfrXYa5wIgb3fzoO8=    168652\n",
      "11  nUunno7yG6iADfwBlhLHkExuJRd+Nscd90G9NZj+YTQ=   2856717\n",
      "12  nZ5q1pI72dPJKYidMWRLsv1e8b+NPCQFiRoRA9oJUs4=       346\n",
      "13  o/0PSEOQ9jWyzNMXehU3dXqePQIE2QxyxyknZMT1k4c=   3149019\n",
      "14  rsWF8cgwVBDr1TZCW03bSkJCI+MnigTfUXxRMy+PCrA=     71101\n",
      "15  w3/Je6spb3dt6QfX5PwD2MXqxLTzNur/Ts5JrAwl8xQ=     13470\n",
      "16  wNqCDsckjGmkiJStuw+dRMj7oqxTnYssARjPB96ws4Y=     14473\n"
     ]
    }
   ],
   "source": [
    "task_constraints_attribute_name = big_frame.groupby(['attribute name'])['time'].count().reset_index()\n",
    "print (task_constraints_attribute_name)"
   ]
  },
  {
   "cell_type": "code",
   "execution_count": 29,
   "metadata": {},
   "outputs": [
    {
     "name": "stdout",
     "output_type": "stream",
     "text": [
      "                                   attribute value  time\n",
      "0     ++4wXa757/I9mBf47KHHIzHMSV7Td4HxmMS3xYXPidg=    24\n",
      "1     ++WEO2NRGNhXDMrs2cB3vvkapyYTqpddauXDW6U1leQ=    15\n",
      "2     +0c4xMyID2OqH9HCUYru1kggzk9PcxN/3hbP+g+EuL8=    15\n",
      "3     +0oLb4Qy0/zzkzQv9/swjNGO4Yix/Y5J7c06rTr4e+c=    24\n",
      "4     +1e9BIk966lrhwOg2AZsW4YJKe01yq5dfCtmpe0a40E=     3\n",
      "...                                            ...   ...\n",
      "5990  zsq2YcaAPmeh8lprU99IR6nR2V6x1TOMSF0d8G/J1SU=     9\n",
      "5991  zw4nE7T1LZxMG4sIbSN+fk+TAHSReeG7DtkSoBQbqIA=     9\n",
      "5992  zwO+D3fz4C/FgfwsFwQtApG+JBcozxa/K/HUN2UotSk=    24\n",
      "5993  zxP6XVmELMeZcw9Xxf+AP6/CCgghDI8UkQfktZ82uTI=    33\n",
      "5994  zzOe9fmT0NGKrf9ARO3MZJXm5w4/ndH0Ty85tT+V9D4=     6\n",
      "\n",
      "[5995 rows x 2 columns]\n"
     ]
    }
   ],
   "source": [
    "task_constraints_attribute_value = big_frame.groupby(['attribute value'])['time'].count().reset_index()\n",
    "print (task_constraints_attribute_value)"
   ]
  },
  {
   "cell_type": "code",
   "execution_count": 30,
   "metadata": {},
   "outputs": [
    {
     "data": {
      "text/plain": [
       "0    2011742\n",
       "1         19\n",
       "2    2011742\n",
       "3    2011742\n",
       "4    2011742\n",
       "5    2011742\n",
       "6    2011742\n",
       "7    2011742\n",
       "dtype: int64"
      ]
     },
     "execution_count": 30,
     "metadata": {},
     "output_type": "execute_result"
    }
   ],
   "source": [
    "path =r\"C:\\Users\\Qinghua\\Desktop\\2\\111AAAProject\\data\\newData\\clusterdata-2011-2\\job_events\"\n",
    "allFiles = glob.glob(os.path.join(path,\"*.csv\"))\n",
    "\n",
    "np_array_list = []\n",
    "for file_ in allFiles:\n",
    "    df = pd.read_csv(file_,index_col=None, header=0)\n",
    "    np_array_list.append(df)\n",
    "\n",
    "comb_np_array = np.vstack(np_array_list)\n",
    "job_events = pd.DataFrame(comb_np_array)\n",
    "job_events.count()"
   ]
  },
  {
   "cell_type": "code",
   "execution_count": 31,
   "metadata": {},
   "outputs": [
    {
     "name": "stdout",
     "output_type": "stream",
     "text": [
      "  time missing info   job ID event type  \\\n",
      "0    0          NaN  3418314          0   \n",
      "1    0          NaN  3418319          0   \n",
      "2    0          NaN  3418324          0   \n",
      "3    0          NaN  3418329          0   \n",
      "4    0          NaN  3418334          0   \n",
      "\n",
      "                                           user scheduling class  \\\n",
      "0  70s3v5qRyCO/1PCdI6fVXnrW8FU/w+5CKRSa72xgcIo=                3   \n",
      "1  70s3v5qRyCO/1PCdI6fVXnrW8FU/w+5CKRSa72xgcIo=                3   \n",
      "2  70s3v5qRyCO/1PCdI6fVXnrW8FU/w+5CKRSa72xgcIo=                3   \n",
      "3  70s3v5qRyCO/1PCdI6fVXnrW8FU/w+5CKRSa72xgcIo=                3   \n",
      "4  70s3v5qRyCO/1PCdI6fVXnrW8FU/w+5CKRSa72xgcIo=                3   \n",
      "\n",
      "                                       job name  \\\n",
      "0  L52XDyhi9x9ChmVBZ1qavOFmnzPeVsvQ2QyGmBZcV4s=   \n",
      "1  vq0IN3BWEbkDjYgYvkrVyH6OWoUoDwFFf3j/syEZzLA=   \n",
      "2  X+Vce15Yu3BCKb7Ttc6hvINAzdfG3NtYEDNNsPdMGKo=   \n",
      "3  EeK3DUWYi1P0vgBTp7wZdUos8UKj/+/FqudTLohMQ9M=   \n",
      "4  noCrQkR+8CU32ibuNmNvobHFFGuXRZ2aM/ZvcMHaOg4=   \n",
      "\n",
      "                               logical job name  \n",
      "0  ShNjeaoUeqGV2i9WMKEX9HTeuc9K2Fdfovibt7Mp6qI=  \n",
      "1  1A2GM17AzHRcKJcJet/oIF7FOORyFcAOcUSpR9Fqou8=  \n",
      "2  seczVo7MBfi/kH3+eH/40Hxs0l2YKFtXFnamcvMjSQI=  \n",
      "3  OEeQsaVr4kdGHFwQ2liQlDZ18529HEMmu6B6/3K1cBA=  \n",
      "4  ys6VJLz4Tz6SJxZJ7kwAZgxPgWnQAQiGIRIMcjOfU7I=  \n"
     ]
    }
   ],
   "source": [
    "job_events.columns = [\"time\", \"missing info\", \"job ID\", \"event type\", \"user\", \"scheduling class\", \"job name\", \"logical job name\"]\n",
    "print (job_events.head())"
   ]
  },
  {
   "cell_type": "code",
   "execution_count": 32,
   "metadata": {},
   "outputs": [
    {
     "name": "stdout",
     "output_type": "stream",
     "text": [
      "                  time  user\n",
      "0                    0  7969\n",
      "1            604046276     1\n",
      "2            604046279     1\n",
      "3            605569012     1\n",
      "4            612141652     1\n",
      "...                ...   ...\n",
      "1996949  2506187199142     1\n",
      "1996950  2506187199146     1\n",
      "1996951  2506187199161     1\n",
      "1996952  2506193647828     1\n",
      "1996953  2506198229242     1\n",
      "\n",
      "[1996954 rows x 2 columns]\n"
     ]
    }
   ],
   "source": [
    "job_events_time = job_events.groupby(['time'])['user'].count().reset_index()\n",
    "print (job_events_time) "
   ]
  },
  {
   "cell_type": "code",
   "execution_count": 33,
   "metadata": {},
   "outputs": [
    {
     "name": "stdout",
     "output_type": "stream",
     "text": [
      "   missing info  time\n",
      "0           0.0     3\n",
      "1           1.0    16\n"
     ]
    }
   ],
   "source": [
    "job_events_missing_info = job_events.groupby(['missing info'])['time'].count().reset_index()\n",
    "print (job_events_missing_info) "
   ]
  },
  {
   "cell_type": "code",
   "execution_count": 34,
   "metadata": {},
   "outputs": [
    {
     "name": "stdout",
     "output_type": "stream",
     "text": [
      "            job ID  time\n",
      "0          3418309     1\n",
      "1          3418314     2\n",
      "2          3418319     2\n",
      "3          3418324     2\n",
      "4          3418329     2\n",
      "...            ...   ...\n",
      "672069  6486633859     3\n",
      "672070  6486634035     3\n",
      "672071  6486638013     3\n",
      "672072  6486638079     2\n",
      "672073  6486641236     3\n",
      "\n",
      "[672074 rows x 2 columns]\n"
     ]
    }
   ],
   "source": [
    "job_events_job_ID = job_events.groupby(['job ID'])['time'].count().reset_index()\n",
    "print (job_events_job_ID) "
   ]
  },
  {
   "cell_type": "code",
   "execution_count": 35,
   "metadata": {},
   "outputs": [
    {
     "name": "stdout",
     "output_type": "stream",
     "text": [
      "   event type    time\n",
      "0           0  671912\n",
      "1           1  671966\n",
      "2           2      22\n",
      "3           3   10123\n",
      "4           4  385371\n",
      "5           5  272326\n",
      "6           6      16\n",
      "7           8       6\n"
     ]
    }
   ],
   "source": [
    "job_events_event_type = job_events.groupby(['event type'])['time'].count().reset_index()\n",
    "print (job_events_event_type) "
   ]
  },
  {
   "cell_type": "code",
   "execution_count": 36,
   "metadata": {
    "scrolled": true
   },
   "outputs": [
    {
     "name": "stdout",
     "output_type": "stream",
     "text": [
      "                                             user  time\n",
      "0    +1FmidGvPEtSIUb/sNfYW604cEUUmyhWukDdV7QXpUI=     2\n",
      "1    +3JB3kdkUWPSK/CxL2eTwBJ+2emDAp9S+1URmz7bH2E=     3\n",
      "2    +3Or0zjiTkLBDAV7IVth75JTKUOVJKvvxQQSWQc/5hw=     4\n",
      "3    +Af/i5ZErwztHIZu1WncL3sjY6IP9qyJNINnOsleT0Y=    22\n",
      "4    +BW2jvyXVN9T37gC63oaM8+kpVC5ZtzzPvx5CnygmmY=    70\n",
      "..                                            ...   ...\n",
      "928  zZtc/fotcDEcO98GBDvQiI4IddYi9SucFSBEaUzLkec=    87\n",
      "929  zeOTLPYUxvhd2Jp2WPFisu7zxq4UfGpWFVoYJ3+sVRQ=    26\n",
      "930  zhUibmUKwFFszcow/5iDqvUEpYO3exqflkL/lEh8FYw=    39\n",
      "931  zw1n/yVS+nVzkMJvYOR68YEiqR0e1O3TVLh6u84gaQE=     2\n",
      "932  zyqKEVQfA+CBmoD1JDIwJ5wn/o5Fndkv8dA0+MSoyao=    57\n",
      "\n",
      "[933 rows x 2 columns]\n"
     ]
    }
   ],
   "source": [
    "job_events_user = job_events.groupby(['user'])['time'].count().reset_index()\n",
    "print (job_events_user) "
   ]
  },
  {
   "cell_type": "code",
   "execution_count": 37,
   "metadata": {},
   "outputs": [
    {
     "name": "stdout",
     "output_type": "stream",
     "text": [
      "   scheduling class    time\n",
      "0                 0  771105\n",
      "1                 1  643753\n",
      "2                 2  582204\n",
      "3                 3   14680\n"
     ]
    }
   ],
   "source": [
    "job_events_scheduling_class = job_events.groupby(['scheduling class'])['time'].count().reset_index()\n",
    "print (job_events_scheduling_class) "
   ]
  },
  {
   "cell_type": "code",
   "execution_count": 39,
   "metadata": {},
   "outputs": [
    {
     "name": "stdout",
     "output_type": "stream",
     "text": [
      "                                            job name  time\n",
      "0       +++1ObF269NV1aTgP5znAOU8xxFYAp/UcYwy5sNlMvA=     3\n",
      "1       +++sqlEchaj/nf6dKJkam5kA95f6oE/ndhlaRQ4geXo=     3\n",
      "2       ++1AmhU5thtS5MEhjeFnk5lJ+4z/G4Rc/Z6y2G7o/CQ=    12\n",
      "3       ++2ZwMH76a01ICLsdRUJnsoWV+VZ9VxbJ5X/gINgXec=     3\n",
      "4       ++5aCDvWI02KfKpNXfAPfOBTT8NuxzIjlFlWvGj7zp0=     3\n",
      "...                                              ...   ...\n",
      "183950  zzwx5DDpy/GBVme01D8Pc1FA/fGOaXxG5/MiOTjaAPs=     3\n",
      "183951  zzxbNAeZVS2wMXWk4i5KLE54cYFWS1yybBHLW7DO11M=     3\n",
      "183952  zzyBpD1anH7kHwKF4nExLbClBSFXwsxSZ9Qkix6Grms=     3\n",
      "183953  zzyVUtdngWluj2po9Yzl/iAmoVBitirJb0AOI3jdHBM=     9\n",
      "183954  zzyaANpsfAoUgJACWmomOJmowlaiNcgRL/1HJO9tB5o=     3\n",
      "\n",
      "[183955 rows x 2 columns]\n"
     ]
    }
   ],
   "source": [
    "job_events_job_name = job_events.groupby(['job name'])['time'].count().reset_index()\n",
    "print (job_events_job_name)"
   ]
  },
  {
   "cell_type": "code",
   "execution_count": 40,
   "metadata": {},
   "outputs": [
    {
     "name": "stdout",
     "output_type": "stream",
     "text": [
      "                                   logical job name  time\n",
      "0      ++/lmS2qU6VPOtvnQQ4yED3uT3p3/oqNfTaj7BM811U=    12\n",
      "1      ++2ed3MyRcG20EmzEPiYuSGzQW7dk0D5IHvaXWPpwtA=     3\n",
      "2      ++DJYlhSE6aukLTjITRCuikKlNvhbuqxTkH1kJ4XcWo=    27\n",
      "3      ++EyEGJxqyUSAfC833yDP07szT062IpNL4QE1aXtJt4=     3\n",
      "4      ++IpSK3QKHJ5QfuKC8TGUUvI80zE+lAcumf/JHzKg0A=    27\n",
      "...                                             ...   ...\n",
      "39725  zzXESBly1N+nMQwIGnnXZ9LcD7njl6TCimbYHOyKQKI=     3\n",
      "39726  zzfU/0NoMaKdmmJ+9aEMEW4L9b6sr/N03hKHZV5xsH0=     3\n",
      "39727  zzsq8qy6dS3ZbTOdx4JT6WJkQFUy+nufK5PjBmrmPuM=     3\n",
      "39728  zztx56T370LcrdA3/w0AIVhx0ZTA6DhG8AP/n1IqOSo=     3\n",
      "39729  zzyXXqYH1aYRpGl3JxyTk8XIApgQMz6NXs8Tpb56rbo=   129\n",
      "\n",
      "[39730 rows x 2 columns]\n"
     ]
    }
   ],
   "source": [
    "job_events_logical_job_name = job_events.groupby(['logical job name'])['time'].count().reset_index()\n",
    "print (job_events_logical_job_name)"
   ]
  },
  {
   "cell_type": "code",
   "execution_count": 41,
   "metadata": {},
   "outputs": [],
   "source": [
    "machine_attributes = pd.read_csv (r'C:\\Users\\Qinghua\\Desktop\\2\\111AAAProject\\data\\newData\\clusterdata-2011-2\\machine_attributes\\part-00000-of-00001.csv',header=None)\n",
    "machine_attributes.columns = [\"time\", \"machine ID\", \"attribute name\", \"attribute value\", \"attribute deleted\"]"
   ]
  },
  {
   "cell_type": "code",
   "execution_count": 42,
   "metadata": {},
   "outputs": [
    {
     "name": "stdout",
     "output_type": "stream",
     "text": [
      "   time  machine ID                                attribute name  \\\n",
      "0     0           5  +8aLrMrUBQLYLD4Ndxi/ZmwwKGhtFGskL8ZSdChYMdo=   \n",
      "1     0           5  4chZqkETND7f4XrzdWLe8c1eLHKuYgjnUMSV+83EYFA=   \n",
      "2     0           5  5dEuieuWMFy+CNMBBf/uXNX5nP4Kgzeu0O6UizRNK3w=   \n",
      "3     0           5  81Cd14q4ebyI/3TPkkIwGYlB/mvKhBUk3e/E8egb4s0=   \n",
      "4     0           5  9eCGRtl6XN5GQoOYGEjKtupBbtUoOaOPYRFw+pzH7IU=   \n",
      "\n",
      "  attribute value  attribute deleted  \n",
      "0               1                  0  \n",
      "1               1                  0  \n",
      "2               2                  0  \n",
      "3               2                  0  \n",
      "4               2                  0  \n"
     ]
    }
   ],
   "source": [
    "print (machine_attributes.head())"
   ]
  },
  {
   "cell_type": "code",
   "execution_count": 43,
   "metadata": {},
   "outputs": [
    {
     "name": "stdout",
     "output_type": "stream",
     "text": [
      "                   time  machine ID\n",
      "0                     0      538615\n",
      "1             600047033           1\n",
      "2             601622558           1\n",
      "3             603308990           1\n",
      "4             604046621           1\n",
      "...                 ...         ...\n",
      "10164269  2506197665701           1\n",
      "10164270  2506197665841           1\n",
      "10164271  2506197665944           1\n",
      "10164272  2506197666015           1\n",
      "10164273  2506197666068           1\n",
      "\n",
      "[10164274 rows x 2 columns]\n"
     ]
    }
   ],
   "source": [
    "machine_attributes_time = machine_attributes.groupby(['time'])['machine ID'].count().reset_index()\n",
    "print (machine_attributes_time) "
   ]
  },
  {
   "cell_type": "code",
   "execution_count": 44,
   "metadata": {},
   "outputs": [
    {
     "name": "stdout",
     "output_type": "stream",
     "text": [
      "       machine ID  time\n",
      "0               5  1034\n",
      "1               6   196\n",
      "2               7   605\n",
      "3              10   424\n",
      "4              13   844\n",
      "...           ...   ...\n",
      "12578  6415979192    99\n",
      "12579  6437385645   123\n",
      "12580  6453653899    65\n",
      "12581  6455072430   141\n",
      "12582  6457070948   149\n",
      "\n",
      "[12583 rows x 2 columns]\n"
     ]
    }
   ],
   "source": [
    "machine_attributes_machine_ID = machine_attributes.groupby(['machine ID'])['time'].count().reset_index()\n",
    "print (machine_attributes_machine_ID) "
   ]
  },
  {
   "cell_type": "code",
   "execution_count": 45,
   "metadata": {},
   "outputs": [
    {
     "name": "stdout",
     "output_type": "stream",
     "text": [
      "                                  attribute name   time\n",
      "0   +8aLrMrUBQLYLD4Ndxi/ZmwwKGhtFGskL8ZSdChYMdo=  12583\n",
      "1   0xo576GO0NtrJrOsohXyU1rcY2xvi5Tvbus9zY1AzJI=    317\n",
      "2   3CusDtw4S6+y7vNAxt3TErcLThHzyAXmG7n18SwY1KM=    725\n",
      "3   4chZqkETND7f4XrzdWLe8c1eLHKuYgjnUMSV+83EYFA=  12583\n",
      "4   5A/UHgbeJPGWK0VQpMLoGVRejsVhhFE57cBUjlOo6gI=   1847\n",
      "..                                           ...    ...\n",
      "62  w3/Je6spb3dt6QfX5PwD2MXqxLTzNur/Ts5JrAwl8xQ=  12590\n",
      "63  wNqCDsckjGmkiJStuw+dRMj7oqxTnYssARjPB96ws4Y=   7549\n",
      "64  xrLPEfaLoWqEPusv42iPso8MZvlF92N/A3o5pR/IMCQ=  12743\n",
      "65  zeTYeXds5XbzYVzUiHe9t3y9K3L5vndxaOFW8btTjU4=  12583\n",
      "66  zqEOkdzktGuy9oI7M6oIKxqbyfanRB/pf+3HPNLTSqg=  12583\n",
      "\n",
      "[67 rows x 2 columns]\n"
     ]
    }
   ],
   "source": [
    "machine_attributes_attribute_name = machine_attributes.groupby(['attribute name'])['time'].count().reset_index()\n",
    "print (machine_attributes_attribute_name) "
   ]
  },
  {
   "cell_type": "code",
   "execution_count": 46,
   "metadata": {},
   "outputs": [
    {
     "name": "stdout",
     "output_type": "stream",
     "text": [
      "                                    attribute value  time\n",
      "0      ++4wXa757/I9mBf47KHHIzHMSV7Td4HxmMS3xYXPidg=     1\n",
      "1      ++BEx8xTOGc4SllohIqCa4CcroOZUwKm8da23RhTCp0=     1\n",
      "2      ++WEO2NRGNhXDMrs2cB3vvkapyYTqpddauXDW6U1leQ=     1\n",
      "3      ++ewimRqiOisXwoY4OaouVYqmJgNKUBVUCnB4pjXHO4=     1\n",
      "4      ++vjU+mpa55bQBghnIQH7C+Rk1C0ZotFovX0P2Ya9v0=     1\n",
      "...                                             ...   ...\n",
      "18006  zya8mAlbwIba6mVq5khuS3e3DPkIeNXZi0dGmmGTdN4=     9\n",
      "18007  zyucNn9yutc2OzrXyjnY/YGTJtDM8ivWtiwrjqn71a8=     1\n",
      "18008  zzNKK21EF9ivYGdFpWNOl9A+E7IbwxHY3/+hdH4Ff2U=     1\n",
      "18009  zzOe9fmT0NGKrf9ARO3MZJXm5w4/ndH0Ty85tT+V9D4=     1\n",
      "18010  zzwCVdJYZ8mYWLqjHvBpMCjucCP5Q/GAEFOa2ch7Dj8=     1\n",
      "\n",
      "[18011 rows x 2 columns]\n"
     ]
    }
   ],
   "source": [
    "machine_attributes_attribute_value = machine_attributes.groupby(['attribute value'])['time'].count().reset_index()\n",
    "print (machine_attributes_attribute_value) "
   ]
  },
  {
   "cell_type": "code",
   "execution_count": 47,
   "metadata": {},
   "outputs": [
    {
     "name": "stdout",
     "output_type": "stream",
     "text": [
      "   attribute deleted      time\n",
      "0                  0  10748332\n",
      "1                  1       234\n"
     ]
    }
   ],
   "source": [
    "machine_attributes_attribute_deleted = machine_attributes.groupby(['attribute deleted'])['time'].count().reset_index()\n",
    "print (machine_attributes_attribute_deleted) "
   ]
  },
  {
   "cell_type": "code",
   "execution_count": 48,
   "metadata": {},
   "outputs": [],
   "source": [
    "machine_events = pd.read_csv (r'C:\\Users\\Qinghua\\Desktop\\2\\111AAAProject\\data\\newData\\clusterdata-2011-2\\machine_events\\part-00000-of-00001.csv',header=None)\n",
    "machine_events.columns = [\"time\", \"machine ID\", \"event type\", \"platform ID\", \"CPUs\",\"Memory\"]"
   ]
  },
  {
   "cell_type": "code",
   "execution_count": 51,
   "metadata": {},
   "outputs": [],
   "source": [
    "machine_events = machine_events.dropna()"
   ]
  },
  {
   "cell_type": "code",
   "execution_count": 52,
   "metadata": {},
   "outputs": [
    {
     "name": "stdout",
     "output_type": "stream",
     "text": [
      "                time  machine ID\n",
      "0                  0       12477\n",
      "1          779231019           1\n",
      "2          974363601           1\n",
      "3         1460219913           1\n",
      "4         2071421510           1\n",
      "...              ...         ...\n",
      "25267  2505897195359           1\n",
      "25268  2506070744967           1\n",
      "25269  2506097126581           1\n",
      "25270  2506129491172           1\n",
      "25271  2506135493517           1\n",
      "\n",
      "[25272 rows x 2 columns]\n"
     ]
    }
   ],
   "source": [
    "machine_events_time = machine_events.groupby(['time'])['machine ID'].count().reset_index()\n",
    "print (machine_events_time) "
   ]
  },
  {
   "cell_type": "code",
   "execution_count": 53,
   "metadata": {},
   "outputs": [
    {
     "name": "stdout",
     "output_type": "stream",
     "text": [
      "       machine ID  time\n",
      "0               5     3\n",
      "1               6     1\n",
      "2               7     1\n",
      "3              10     3\n",
      "4              13     3\n",
      "...           ...   ...\n",
      "12578  6415979192     1\n",
      "12579  6437385645     3\n",
      "12580  6453653899     2\n",
      "12581  6455072430     1\n",
      "12582  6457070948     1\n",
      "\n",
      "[12583 rows x 2 columns]\n"
     ]
    }
   ],
   "source": [
    "machine_events_machine_ID = machine_events.groupby(['machine ID'])['time'].count().reset_index()\n",
    "print (machine_events_machine_ID) "
   ]
  },
  {
   "cell_type": "code",
   "execution_count": 54,
   "metadata": {},
   "outputs": [
    {
     "name": "stdout",
     "output_type": "stream",
     "text": [
      "   event type   time\n",
      "0           0  21411\n",
      "1           1   8957\n",
      "2           2   7380\n"
     ]
    }
   ],
   "source": [
    "machine_events_event_type = machine_events.groupby(['event type'])['time'].count().reset_index()\n",
    "print (machine_events_event_type) "
   ]
  },
  {
   "cell_type": "code",
   "execution_count": 55,
   "metadata": {},
   "outputs": [
    {
     "name": "stdout",
     "output_type": "stream",
     "text": [
      "                                    platform ID   time\n",
      "0  70ZOvysYGtB6j9MUHMPzA2Iy7GRzWeJTdX0YCLRKGVg=    510\n",
      "1  GtXakjpd0CD41brK7k/27s3Eby3RpJKy7taB9S8UQRA=   2223\n",
      "2  HofLGzk1Or/8Ildj2+Lqv0UGGvY82NLoni8+J/Yy0RU=  35015\n"
     ]
    }
   ],
   "source": [
    "machine_events_platform_ID = machine_events.groupby(['platform ID'])['time'].count().reset_index()\n",
    "print (machine_events_platform_ID) "
   ]
  },
  {
   "cell_type": "code",
   "execution_count": 56,
   "metadata": {},
   "outputs": [
    {
     "name": "stdout",
     "output_type": "stream",
     "text": [
      "   CPUs   time\n",
      "0  0.25    510\n",
      "1  0.50  35015\n",
      "2  1.00   2223\n"
     ]
    }
   ],
   "source": [
    "machine_events_CPUs = machine_events.groupby(['CPUs'])['time'].count().reset_index()\n",
    "print (machine_events_CPUs) "
   ]
  },
  {
   "cell_type": "code",
   "execution_count": 57,
   "metadata": {},
   "outputs": [
    {
     "name": "stdout",
     "output_type": "stream",
     "text": [
      "    Memory   time\n",
      "0  0.03085      6\n",
      "1  0.06158      3\n",
      "2  0.12410     97\n",
      "3  0.24930  10188\n",
      "4  0.24980    510\n",
      "5  0.49950  21731\n",
      "6  0.50000      5\n",
      "7  0.74900   2983\n",
      "8  0.96780      7\n",
      "9  1.00000   2218\n"
     ]
    }
   ],
   "source": [
    "machine_events_Memory = machine_events.groupby(['Memory'])['time'].count().reset_index()\n",
    "print (machine_events_Memory) "
   ]
  },
  {
   "cell_type": "code",
   "execution_count": 3,
   "metadata": {},
   "outputs": [
    {
     "data": {
      "text/plain": [
       "0    15274638\n",
       "1    15274638\n",
       "2    15274638\n",
       "3    15274638\n",
       "4    15274638\n",
       "5    15274638\n",
       "6    15274348\n",
       "7    15274348\n",
       "8    15274348\n",
       "dtype: int64"
      ]
     },
     "execution_count": 3,
     "metadata": {},
     "output_type": "execute_result"
    }
   ],
   "source": [
    "path =r\"C:\\Users\\Qinghua\\Desktop\\2\\111AAAProject\\data\\newData\\clusterdata-2011-2\\task_events\\1\"\n",
    "allFiles = glob.glob(os.path.join(path,\"*.csv\"))\n",
    "\n",
    "np_array_list = []\n",
    "for file_ in allFiles:\n",
    "    df = pd.read_csv(file_,index_col=None, header=0, usecols = [0,2,3,5,7,8,9,10,11])\n",
    "    np_array_list.append(df)\n",
    "\n",
    "comb_np_array = np.vstack(np_array_list)\n",
    "task_events1 = pd.DataFrame(comb_np_array)\n",
    "task_events1.count()"
   ]
  },
  {
   "cell_type": "code",
   "execution_count": 4,
   "metadata": {},
   "outputs": [],
   "source": [
    "task_events1.columns = ['time', 'job ID', 'task index', 'event type', 'scheduling class', 'priority', 'CPU request', 'memory request', 'disk space request'] "
   ]
  },
  {
   "cell_type": "code",
   "execution_count": 6,
   "metadata": {},
   "outputs": [],
   "source": [
    "task_events1 = task_events1.dropna(subset=['CPU request', 'memory request', 'disk space request'])"
   ]
  },
  {
   "cell_type": "code",
   "execution_count": 8,
   "metadata": {},
   "outputs": [
    {
     "name": "stdout",
     "output_type": "stream",
     "text": [
      "                  time  job ID\n",
      "0         0.000000e+00  277030\n",
      "1         6.000269e+08       1\n",
      "2         6.000469e+08       1\n",
      "3         6.000469e+08       1\n",
      "4         6.000470e+08       1\n",
      "...                ...     ...\n",
      "14996940  1.308894e+11       1\n",
      "14996941  1.308894e+11       1\n",
      "14996942  1.308894e+11       1\n",
      "14996943  1.308894e+11       1\n",
      "14996944  1.308894e+11       1\n",
      "\n",
      "[14996945 rows x 2 columns]\n",
      "             job ID  time\n",
      "0      3.418309e+06     2\n",
      "1      3.418314e+06     4\n",
      "2      3.418319e+06     2\n",
      "3      3.418324e+06     2\n",
      "4      3.418329e+06     3\n",
      "...             ...   ...\n",
      "35453  6.267725e+09     2\n",
      "35454  6.267725e+09     2\n",
      "35455  6.267726e+09    64\n",
      "35456  6.267726e+09     2\n",
      "35457  6.267733e+09     3\n",
      "\n",
      "[35458 rows x 2 columns]\n",
      "       task index    time\n",
      "0             0.0  161710\n",
      "1             1.0   45910\n",
      "2             2.0   41199\n",
      "3             3.0   38887\n",
      "4             4.0   37875\n",
      "...           ...     ...\n",
      "20005     20005.0     116\n",
      "20006     20006.0      95\n",
      "20007     20007.0     122\n",
      "20008     20008.0      86\n",
      "20009     20009.0       3\n",
      "\n",
      "[20010 rows x 2 columns]\n",
      "   scheduling class      time\n",
      "0               0.0  13559250\n",
      "1               1.0    971262\n",
      "2               2.0    652451\n",
      "3               3.0     91385\n",
      "   priority      time\n",
      "0       0.0  11486388\n",
      "1       1.0    486500\n",
      "2       2.0   1099509\n",
      "3       4.0   1938218\n",
      "4       5.0        15\n",
      "5       6.0     33657\n",
      "6       8.0     41433\n",
      "7       9.0    169913\n",
      "8      10.0      3906\n",
      "9      11.0     14809\n",
      "     CPU request   time\n",
      "0       0.000000  55762\n",
      "1       0.000625  33788\n",
      "2       0.001249     54\n",
      "3       0.001562     10\n",
      "4       0.001625      7\n",
      "..           ...    ...\n",
      "693     0.381300    550\n",
      "694     0.406200     50\n",
      "695     0.433100     34\n",
      "696     0.437500    149\n",
      "697     0.500000     51\n",
      "\n",
      "[698 rows x 2 columns]\n",
      "      memory request   time\n",
      "0       0.000000e+00   1311\n",
      "1       9.537000e-07    215\n",
      "2       1.526000e-05    496\n",
      "3       6.199000e-05    216\n",
      "4       1.554000e-04  10208\n",
      "...              ...    ...\n",
      "1242    4.297000e-01    366\n",
      "1243    5.088000e-01      4\n",
      "1244    5.098000e-01     38\n",
      "1245    6.367000e-01     22\n",
      "1246    9.551000e-01     11\n",
      "\n",
      "[1247 rows x 2 columns]\n",
      "   event type     time\n",
      "0         0.0  5172684\n",
      "1         1.0  5068360\n",
      "2         2.0   752487\n",
      "3         3.0  2737084\n",
      "4         4.0   961097\n",
      "5         5.0   582176\n",
      "6         7.0       13\n",
      "7         8.0      447\n",
      "     disk space request   time\n",
      "0          0.000000e+00  16208\n",
      "1          9.537000e-07  14985\n",
      "2          1.907000e-06   2706\n",
      "3          2.861000e-06     29\n",
      "4          3.815000e-06  17889\n",
      "..                  ...    ...\n",
      "489        7.042000e-03    366\n",
      "490        7.721000e-03   9007\n",
      "491        7.736000e-03     66\n",
      "492        9.720000e-03      9\n",
      "493        1.131000e-02  12149\n",
      "\n",
      "[494 rows x 2 columns]\n"
     ]
    }
   ],
   "source": [
    "task_events1_time = task_events1.groupby(['time'])['job ID'].count().reset_index()\n",
    "print (task_events1_time) \n",
    "task_events1_job_ID = task_events1.groupby(['job ID'])['time'].count().reset_index()\n",
    "print (task_events1_job_ID) \n",
    "task_events1_task_index = task_events1.groupby(['task index'])['time'].count().reset_index()\n",
    "print (task_events1_task_index) \n",
    "task_events1_scheduling_class = task_events1.groupby(['scheduling class'])['time'].count().reset_index()\n",
    "print (task_events1_scheduling_class) \n",
    "task_events1_priority = task_events1.groupby(['priority'])['time'].count().reset_index()\n",
    "print (task_events1_priority) \n",
    "task_events1_CPU_request = task_events1.groupby(['CPU request'])['time'].count().reset_index()\n",
    "print (task_events1_CPU_request) \n",
    "task_events1_memory_request = task_events1.groupby(['memory request'])['time'].count().reset_index()\n",
    "print (task_events1_memory_request) \n",
    "task_events1_event_type = task_events1.groupby(['event type'])['time'].count().reset_index()\n",
    "print (task_events1_event_type) \n",
    "task_events1_disk_space_request = task_events1.groupby(['disk space request'])['time'].count().reset_index()\n",
    "print (task_events1_disk_space_request) "
   ]
  },
  {
   "cell_type": "code",
   "execution_count": 2,
   "metadata": {},
   "outputs": [
    {
     "data": {
      "text/plain": [
       "0     12210229\n",
       "1     12210229\n",
       "2     12210229\n",
       "3     12210229\n",
       "4     12210229\n",
       "5     12210229\n",
       "6     12210229\n",
       "7     12210229\n",
       "8     12210229\n",
       "9     12210229\n",
       "10    12210229\n",
       "11    11795028\n",
       "dtype: int64"
      ]
     },
     "execution_count": 2,
     "metadata": {},
     "output_type": "execute_result"
    }
   ],
   "source": [
    "path =r\"C:\\Users\\Qinghua\\Desktop\\2\\111AAAProject\\data\\newData\\clusterdata-2011-2\\task_usage\\1\"\n",
    "allFiles = glob.glob(os.path.join(path,\"*.csv\"))\n",
    "\n",
    "np_array_list = []\n",
    "for file_ in allFiles:\n",
    "    df = pd.read_csv(file_,index_col=None, header=0, usecols = [0,1,2,3,5,6,7,8,9,10,13,14])\n",
    "    np_array_list.append(df)\n",
    "\n",
    "comb_np_array = np.vstack(np_array_list)\n",
    "task_usage1 = pd.DataFrame(comb_np_array)\n",
    "task_usage1.count()"
   ]
  },
  {
   "cell_type": "code",
   "execution_count": 11,
   "metadata": {},
   "outputs": [],
   "source": [
    "del task_events1"
   ]
  },
  {
   "cell_type": "code",
   "execution_count": 4,
   "metadata": {},
   "outputs": [],
   "source": [
    "task_usage1.columns = [\"start time\", \"end time\", \"job ID\", \"task index\", \"CPU rate\", \"canonical memory usage\"\n",
    "              , \"assigned memory usage\" , \"unmapped page cache\", \"total page cache\", \"maximum memory usage\"\n",
    "              , \"local disk space usage\", \"maximum CPU rate\"]"
   ]
  },
  {
   "cell_type": "code",
   "execution_count": 6,
   "metadata": {},
   "outputs": [],
   "source": [
    "task_usage1 = task_usage1.dropna(subset=['CPU rate', 'canonical memory usage', 'assigned memory usage']) "
   ]
  },
  {
   "cell_type": "code",
   "execution_count": 7,
   "metadata": {},
   "outputs": [
    {
     "name": "stdout",
     "output_type": "stream",
     "text": [
      "         start time  end time\n",
      "0      6.000000e+08    131319\n",
      "1      6.010000e+08        19\n",
      "2      6.020000e+08        18\n",
      "3      6.030000e+08        21\n",
      "4      6.040000e+08        20\n",
      "...             ...       ...\n",
      "24958  2.565100e+10        18\n",
      "24959  2.565200e+10        10\n",
      "24960  2.565300e+10        14\n",
      "24961  2.565400e+10        11\n",
      "24962  2.565500e+10        17\n",
      "\n",
      "[24963 rows x 2 columns]\n"
     ]
    }
   ],
   "source": [
    "task_usage1_start_time = task_usage1.groupby(['start time'])['end time'].count().reset_index()\n",
    "print (task_usage1_start_time)"
   ]
  },
  {
   "cell_type": "code",
   "execution_count": 8,
   "metadata": {},
   "outputs": [
    {
     "name": "stdout",
     "output_type": "stream",
     "text": [
      "           end time  start time\n",
      "0      6.010000e+08          19\n",
      "1      6.020000e+08          18\n",
      "2      6.030000e+08          30\n",
      "3      6.040000e+08          25\n",
      "4      6.050000e+08          37\n",
      "...             ...         ...\n",
      "25145  2.579600e+10          12\n",
      "25146  2.579700e+10          20\n",
      "25147  2.579800e+10          25\n",
      "25148  2.579900e+10          15\n",
      "25149  2.580000e+10      132522\n",
      "\n",
      "[25150 rows x 2 columns]\n"
     ]
    }
   ],
   "source": [
    "task_usage1_end_time = task_usage1.groupby(['end time'])['start time'].count().reset_index()\n",
    "print (task_usage1_end_time)"
   ]
  },
  {
   "cell_type": "code",
   "execution_count": 9,
   "metadata": {},
   "outputs": [
    {
     "name": "stdout",
     "output_type": "stream",
     "text": [
      "            job ID  start time\n",
      "0     3.418309e+06         167\n",
      "1     3.418314e+06         168\n",
      "2     3.418319e+06         168\n",
      "3     3.418324e+06         168\n",
      "4     3.418329e+06         252\n",
      "...            ...         ...\n",
      "9635  6.253229e+09           2\n",
      "9636  6.253230e+09           2\n",
      "9637  6.253230e+09          75\n",
      "9638  6.253231e+09           1\n",
      "9639  6.253231e+09           1\n",
      "\n",
      "[9640 rows x 2 columns]\n"
     ]
    }
   ],
   "source": [
    "task_usage1_job_ID = task_usage1.groupby(['job ID'])['start time'].count().reset_index()\n",
    "print (task_usage1_job_ID)"
   ]
  },
  {
   "cell_type": "code",
   "execution_count": 10,
   "metadata": {},
   "outputs": [
    {
     "name": "stdout",
     "output_type": "stream",
     "text": [
      "       task index  start time\n",
      "0             0.0      360794\n",
      "1             1.0      141617\n",
      "2             2.0      109735\n",
      "3             3.0       89886\n",
      "4             4.0       83639\n",
      "...           ...         ...\n",
      "20005     20005.0          84\n",
      "20006     20006.0          84\n",
      "20007     20007.0          84\n",
      "20008     20008.0          84\n",
      "20009     20009.0          84\n",
      "\n",
      "[20010 rows x 2 columns]\n"
     ]
    }
   ],
   "source": [
    "task_usage1_task_index = task_usage1.groupby(['task index'])['start time'].count().reset_index()\n",
    "print (task_usage1_task_index)"
   ]
  },
  {
   "cell_type": "code",
   "execution_count": 11,
   "metadata": {},
   "outputs": [
    {
     "name": "stdout",
     "output_type": "stream",
     "text": [
      "          CPU rate  start time\n",
      "0     0.000000e+00     1023455\n",
      "1     9.537000e-07          34\n",
      "2     1.907000e-06          84\n",
      "3     2.861000e-06         116\n",
      "4     3.815000e-06         103\n",
      "...            ...         ...\n",
      "5725  1.541000e+00           1\n",
      "5726  1.787000e+00           1\n",
      "5727  4.336000e+00           1\n",
      "5728  6.633000e+00           1\n",
      "5729  1.703000e+01           1\n",
      "\n",
      "[5730 rows x 2 columns]\n"
     ]
    }
   ],
   "source": [
    "task_usage1_CPU_rate = task_usage1.groupby(['CPU rate'])['start time'].count().reset_index()\n",
    "print (task_usage1_CPU_rate)"
   ]
  },
  {
   "cell_type": "code",
   "execution_count": 12,
   "metadata": {},
   "outputs": [
    {
     "name": "stdout",
     "output_type": "stream",
     "text": [
      "      canonical memory usage  start time\n",
      "0               0.000000e+00     1168991\n",
      "1               9.537000e-07          39\n",
      "2               1.907000e-06         130\n",
      "3               2.861000e-06         184\n",
      "4               3.815000e-06         191\n",
      "...                      ...         ...\n",
      "5400            5.820000e-01          12\n",
      "5401            5.938000e-01           4\n",
      "5402            5.947000e-01          73\n",
      "5403            5.957000e-01           7\n",
      "5404            7.520000e-01         168\n",
      "\n",
      "[5405 rows x 2 columns]\n"
     ]
    }
   ],
   "source": [
    "task_usage1_canonical_memory_usage = task_usage1.groupby(['canonical memory usage'])['start time'].count().reset_index()\n",
    "print (task_usage1_canonical_memory_usage)"
   ]
  },
  {
   "cell_type": "code",
   "execution_count": 13,
   "metadata": {},
   "outputs": [
    {
     "name": "stdout",
     "output_type": "stream",
     "text": [
      "      assigned memory usage  start time\n",
      "0                  0.000000     1189020\n",
      "1                  0.000007           8\n",
      "2                  0.000012           7\n",
      "3                  0.000013           9\n",
      "4                  0.000019          16\n",
      "...                     ...         ...\n",
      "5273               0.554700          84\n",
      "5274               0.636700         256\n",
      "5275               0.637700          84\n",
      "5276               0.754900          84\n",
      "5277               0.758800          84\n",
      "\n",
      "[5278 rows x 2 columns]\n"
     ]
    }
   ],
   "source": [
    "task_usage1_assigned_memory_usage = task_usage1.groupby(['assigned memory usage'])['start time'].count().reset_index()\n",
    "print (task_usage1_assigned_memory_usage)"
   ]
  },
  {
   "cell_type": "code",
   "execution_count": 14,
   "metadata": {},
   "outputs": [
    {
     "name": "stdout",
     "output_type": "stream",
     "text": [
      "      unmapped page cache  start time\n",
      "0            0.000000e+00     1177775\n",
      "1            9.537000e-07        3769\n",
      "2            1.907000e-06        3986\n",
      "3            2.861000e-06        4246\n",
      "4            3.815000e-06        4030\n",
      "...                   ...         ...\n",
      "4863         2.009000e-01           1\n",
      "4864         2.014000e-01           1\n",
      "4865         2.021000e-01           1\n",
      "4866         2.029000e-01           1\n",
      "4867         2.124000e-01           1\n",
      "\n",
      "[4868 rows x 2 columns]\n"
     ]
    }
   ],
   "source": [
    "task_usage1_unmapped_page_cache = task_usage1.groupby(['unmapped page cache'])['start time'].count().reset_index()\n",
    "print (task_usage1_unmapped_page_cache)"
   ]
  },
  {
   "cell_type": "code",
   "execution_count": 15,
   "metadata": {},
   "outputs": [
    {
     "name": "stdout",
     "output_type": "stream",
     "text": [
      "      total page cache  start time\n",
      "0         0.000000e+00     1177080\n",
      "1         9.537000e-07        1745\n",
      "2         1.907000e-06        1208\n",
      "3         2.861000e-06        1152\n",
      "4         3.815000e-06         879\n",
      "...                ...         ...\n",
      "4997      2.275000e-01          19\n",
      "4998      2.278000e-01          23\n",
      "4999      2.280000e-01         127\n",
      "5000      2.283000e-01          24\n",
      "5001      2.285000e-01           4\n",
      "\n",
      "[5002 rows x 2 columns]\n"
     ]
    }
   ],
   "source": [
    "task_usage1_total_page_cache = task_usage1.groupby(['total page cache'])['start time'].count().reset_index()\n",
    "print (task_usage1_total_page_cache)"
   ]
  },
  {
   "cell_type": "code",
   "execution_count": 16,
   "metadata": {},
   "outputs": [
    {
     "name": "stdout",
     "output_type": "stream",
     "text": [
      "      maximum memory usage  start time\n",
      "0                 0.000000     1170199\n",
      "1                 0.000002           1\n",
      "2                 0.000003           2\n",
      "3                 0.000004           1\n",
      "4                 0.000005           2\n",
      "...                    ...         ...\n",
      "5466              0.582000          62\n",
      "5467              0.593800           2\n",
      "5468              0.594700          31\n",
      "5469              0.595700          51\n",
      "5470              0.752000         168\n",
      "\n",
      "[5471 rows x 2 columns]\n"
     ]
    }
   ],
   "source": [
    "task_usage1_maximum_memory_usage = task_usage1.groupby(['maximum memory usage'])['start time'].count().reset_index()\n",
    "print (task_usage1_maximum_memory_usage)"
   ]
  },
  {
   "cell_type": "code",
   "execution_count": 17,
   "metadata": {},
   "outputs": [
    {
     "name": "stdout",
     "output_type": "stream",
     "text": [
      "      local disk space usage  start time\n",
      "0               0.000000e+00     1024433\n",
      "1               9.537000e-07           1\n",
      "2               1.907000e-06           4\n",
      "3               2.861000e-06           4\n",
      "4               3.815000e-06          43\n",
      "...                      ...         ...\n",
      "7016            1.828000e+01           1\n",
      "7017            2.866000e+01           1\n",
      "7018            6.425000e+01           1\n",
      "7019            8.375000e+01           1\n",
      "7020            5.370000e+02           1\n",
      "\n",
      "[7021 rows x 2 columns]\n"
     ]
    }
   ],
   "source": [
    "task_usage1_local_disk_space_usage = task_usage1.groupby(['local disk space usage'])['start time'].count().reset_index()\n",
    "print (task_usage1_local_disk_space_usage)"
   ]
  },
  {
   "cell_type": "code",
   "execution_count": 18,
   "metadata": {},
   "outputs": [
    {
     "name": "stdout",
     "output_type": "stream",
     "text": [
      "      maximum CPU rate  start time\n",
      "0         0.000000e+00      884177\n",
      "1         9.537000e-07          27\n",
      "2         1.907000e-06          44\n",
      "3         2.861000e-06          58\n",
      "4         3.815000e-06          56\n",
      "...                ...         ...\n",
      "5348      1.330000e+00           1\n",
      "5349      1.404000e+00           1\n",
      "5350      1.602000e+00           1\n",
      "5351      1.811000e+00           1\n",
      "5352      1.098000e+01           1\n",
      "\n",
      "[5353 rows x 2 columns]\n"
     ]
    }
   ],
   "source": [
    "task_usage1_maximum_CPU_rate = task_usage1.groupby(['maximum CPU rate'])['start time'].count().reset_index()\n",
    "print (task_usage1_maximum_CPU_rate)"
   ]
  },
  {
   "cell_type": "code",
   "execution_count": null,
   "metadata": {},
   "outputs": [],
   "source": []
  }
 ],
 "metadata": {
  "kernelspec": {
   "display_name": "Python 3",
   "language": "python",
   "name": "python3"
  },
  "language_info": {
   "codemirror_mode": {
    "name": "ipython",
    "version": 3
   },
   "file_extension": ".py",
   "mimetype": "text/x-python",
   "name": "python",
   "nbconvert_exporter": "python",
   "pygments_lexer": "ipython3",
   "version": "3.7.4"
  }
 },
 "nbformat": 4,
 "nbformat_minor": 4
}
